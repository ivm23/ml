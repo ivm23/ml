{
 "cells": [
  {
   "cell_type": "code",
   "execution_count": 2,
   "metadata": {},
   "outputs": [],
   "source": [
    "import pandas as pd\n",
    "import numpy as np\n",
    "from sklearn.model_selection import train_test_split"
   ]
  },
  {
   "cell_type": "markdown",
   "metadata": {},
   "source": [
    "load data"
   ]
  },
  {
   "cell_type": "code",
   "execution_count": 3,
   "metadata": {},
   "outputs": [],
   "source": [
    "df = pd.read_csv('Gowalla_totalCheckins.txt', sep='\\t', header=None)\n",
    "checkins = df[[0, 4]]\n",
    "checkins.columns = ['userId', 'placeId']\n",
    "    \n",
    "clasters = pd.read_csv('answer.txt', sep='\\n', header=None, names=['clasterId'])\n",
    "clasters[\"userId\"] = pd.Series(range(196591))\n",
    "\n",
    "df = pd.merge(checkins, clasters,  how='inner', left_on=['userId'], right_on = ['userId'])\n",
    "users = np.unique(checkins['userId'].values)\n"
   ]
  },
  {
   "cell_type": "raw",
   "metadata": {},
   "source": [
    "train_test split\n",
    "(https://scikit-learn.org/stable/modules/generated/sklearn.model_selection.train_test_split.html)"
   ]
  },
  {
   "cell_type": "code",
   "execution_count": 4,
   "metadata": {},
   "outputs": [],
   "source": [
    "users_train, users_test = train_test_split(users, test_size=0.5, random_state=42)\n",
    "data_test = df[np.in1d(df['userId'], users_test)]\n",
    "\n",
    "data_train = df[np.in1d(df['userId'], users_train)]"
   ]
  },
  {
   "cell_type": "markdown",
   "metadata": {},
   "source": [
    "count of clusters"
   ]
  },
  {
   "cell_type": "code",
   "execution_count": 5,
   "metadata": {},
   "outputs": [
    {
     "data": {
      "text/plain": [
       "53510"
      ]
     },
     "execution_count": 5,
     "metadata": {},
     "output_type": "execute_result"
    }
   ],
   "source": [
    "np.unique(clasters['clasterId'].values).shape[0]"
   ]
  },
  {
   "cell_type": "markdown",
   "metadata": {},
   "source": [
    "get top 10"
   ]
  },
  {
   "cell_type": "code",
   "execution_count": 6,
   "metadata": {},
   "outputs": [],
   "source": [
    "top10 = df.groupby('clasterId').apply(lambda x: x['placeId'].value_counts().nlargest(10).index.values)\n"
   ]
  },
  {
   "cell_type": "markdown",
   "metadata": {},
   "source": [
    "acc"
   ]
  },
  {
   "cell_type": "code",
   "execution_count": 7,
   "metadata": {},
   "outputs": [
    {
     "data": {
      "text/plain": [
       "28.729777827883048"
      ]
     },
     "execution_count": 7,
     "metadata": {},
     "output_type": "execute_result"
    }
   ],
   "source": [
    "positiveAnsw = 0\n",
    "allAnsw = 0\n",
    "\n",
    "for user in users_test:\n",
    "    top_places = top10.loc[clasters.loc[user]['clasterId']]\n",
    "    users_places = data_test[data_test['userId'] == user]['placeId']\n",
    "    \n",
    "    answIsTrue = np.isin(top_places, users_places)\n",
    "    \n",
    "    allAnsw = allAnsw + top_places.shape[0]\n",
    "    positiveAnsw = positiveAnsw + answIsTrue[answIsTrue].shape[0]\n",
    "\n",
    "positiveAnsw / allAnsw * 100"
   ]
  },
  {
   "cell_type": "code",
   "execution_count": 62,
   "metadata": {},
   "outputs": [
    {
     "data": {
      "text/plain": [
       "29175"
      ]
     },
     "execution_count": 62,
     "metadata": {},
     "output_type": "execute_result"
    }
   ],
   "source": [
    "clastersSize = clasters['clasterId'].value_counts()\n",
    "clastersSize[clastersSize == 1].shape[0]"
   ]
  },
  {
   "cell_type": "code",
   "execution_count": 70,
   "metadata": {},
   "outputs": [
    {
     "name": "stdout",
     "output_type": "stream",
     "text": [
      "[608. 757. 938. ...   0.   0.   1.]\n"
     ]
    }
   ],
   "source": [
    "cl_size = np.zeros(196591)\n",
    "\n",
    "for i in clasters['clasterId']:\n",
    "    cl_size[int(i)] +=1\n",
    "    \n",
    "print (cl_size)\n",
    "    "
   ]
  },
  {
   "cell_type": "code",
   "execution_count": 72,
   "metadata": {},
   "outputs": [
    {
     "data": {
      "image/png": "[encoded data removed]",
      "text/plain": [
       "<Figure size 720x720 with 1 Axes>"
      ]
     },
     "metadata": {
      "needs_background": "light"
     },
     "output_type": "display_data"
    }
   ],
   "source": [
    "import matplotlib.pyplot as plt\n",
    "\n",
    "cl_size = cl_size[cl_size != 0]\n",
    "\n",
    "plt.figure(figsize =(10,10))\n",
    "plt.plot(range(len(cl_size)), cl_size, color = 'red')\n",
    "plt.ylabel('clust_size')\n",
    "plt.xlabel('count_clust')\n",
    "plt.show()\n"
   ]
  },
  {
   "cell_type": "code",
   "execution_count": null,
   "metadata": {},
   "outputs": [],
   "source": []
  }
 ],
 "metadata": {
  "kernelspec": {
   "display_name": "Python 3",
   "language": "python",
   "name": "python3"
  },
  "language_info": {
   "codemirror_mode": {
    "name": "ipython",
    "version": 3
   },
   "file_extension": ".py",
   "mimetype": "text/x-python",
   "name": "python",
   "nbconvert_exporter": "python",
   "pygments_lexer": "ipython3",
   "version": "3.7.0"
  }
 },
 "nbformat": 4,
 "nbformat_minor": 2
}
