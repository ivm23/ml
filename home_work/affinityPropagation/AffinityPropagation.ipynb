{
 "cells": [
  {
   "cell_type": "code",
   "execution_count": 1,
   "metadata": {},
   "outputs": [],
   "source": [
    "import pandas as pd\n",
    "import numpy as np\n",
    "from sklearn.model_selection import train_test_split"
   ]
  },
  {
   "cell_type": "markdown",
   "metadata": {},
   "source": [
    "load data"
   ]
  },
  {
   "cell_type": "code",
   "execution_count": 11,
   "metadata": {},
   "outputs": [],
   "source": [
    "df = pd.read_csv('Gowalla_totalCheckins.txt', sep='\\t', header=None)\n",
    "checkins = df[[0, 4]]\n",
    "checkins.columns = ['userId', 'placeId']\n",
    "    \n",
    "clasters = pd.read_csv('answer.txt', sep='\\n', header=None, names=['clasterId'])\n",
    "clasters[\"userId\"] = pd.Series(range(196591))\n",
    "\n",
    "df = pd.merge(checkins, clasters,  how='inner', left_on=['userId'], right_on = ['userId'])\n",
    "users = np.unique(checkins['userId'].values)\n"
   ]
  },
  {
   "cell_type": "raw",
   "metadata": {},
   "source": [
    "train_test split\n",
    "(https://scikit-learn.org/stable/modules/generated/sklearn.model_selection.train_test_split.html)"
   ]
  },
  {
   "cell_type": "code",
   "execution_count": 12,
   "metadata": {},
   "outputs": [],
   "source": [
    "users_train, users_test = train_test_split(users, test_size=0.5, random_state=42)\n",
    "data_test = df[np.in1d(df['userId'], users_test)]\n",
    "\n",
    "data_train = df[np.in1d(df['userId'], users_train)]"
   ]
  },
  {
   "cell_type": "markdown",
   "metadata": {},
   "source": [
    "count of clusters"
   ]
  },
  {
   "cell_type": "code",
   "execution_count": 13,
   "metadata": {},
   "outputs": [
    {
     "data": {
      "text/plain": [
       "57110"
      ]
     },
     "execution_count": 13,
     "metadata": {},
     "output_type": "execute_result"
    }
   ],
   "source": [
    "np.unique(clasters['clasterId'].values).shape[0]"
   ]
  },
  {
   "cell_type": "markdown",
   "metadata": {},
   "source": [
    "get top 10"
   ]
  },
  {
   "cell_type": "code",
   "execution_count": 14,
   "metadata": {},
   "outputs": [],
   "source": [
    "top10 = df.groupby('clasterId').apply(lambda x: x['placeId'].value_counts().nlargest(10).index.values)\n"
   ]
  },
  {
   "cell_type": "markdown",
   "metadata": {},
   "source": [
    "acc"
   ]
  },
  {
   "cell_type": "code",
   "execution_count": 15,
   "metadata": {},
   "outputs": [
    {
     "data": {
      "text/plain": [
       "33.26330447661479"
      ]
     },
     "execution_count": 15,
     "metadata": {},
     "output_type": "execute_result"
    }
   ],
   "source": [
    "positiveAnsw = 0\n",
    "allAnsw = 0\n",
    "\n",
    "for user in users_test:\n",
    "    top_places = top10.loc[clasters.loc[user]['clasterId']]\n",
    "    users_places = data_test[data_test['userId'] == user]['placeId']\n",
    "    \n",
    "    answIsTrue = np.isin(top_places, users_places)\n",
    "    \n",
    "    allAnsw = allAnsw + top_places.shape[0]\n",
    "    positiveAnsw = positiveAnsw + answIsTrue[answIsTrue].shape[0]\n",
    "\n",
    "positiveAnsw / allAnsw * 100"
   ]
  },
  {
   "cell_type": "code",
   "execution_count": null,
   "metadata": {},
   "outputs": [],
   "source": []
  }
 ],
 "metadata": {
  "kernelspec": {
   "display_name": "Python 3",
   "language": "python",
   "name": "python3"
  },
  "language_info": {
   "codemirror_mode": {
    "name": "ipython",
    "version": 3
   },
   "file_extension": ".py",
   "mimetype": "text/x-python",
   "name": "python",
   "nbconvert_exporter": "python",
   "pygments_lexer": "ipython3",
   "version": "3.7.0"
  }
 },
 "nbformat": 4,
 "nbformat_minor": 2
}
